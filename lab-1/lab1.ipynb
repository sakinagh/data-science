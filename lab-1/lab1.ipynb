import pandas as pd

# Load dataset
file_path = "input.csv"
df = pd.read_csv(file_path)

# Drop duplicate rows
df.drop_duplicates(inplace=True)

# Fill missing values (example: filling with mean for numerical columns)
df.fillna(df.mean(numeric_only=True), inplace=True)

# Convert column names to lowercase and replace spaces with underscores
df.columns = df.columns.str.lower().str.replace(' ', '_')

# Save cleaned dataset
output_path = "output_cleaned.csv"
df.to_csv(output_path, index=False)

print(f"Cleaned data saved to {output_path}")
